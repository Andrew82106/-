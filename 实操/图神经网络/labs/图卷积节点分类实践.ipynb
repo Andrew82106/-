{
 "cells": [
  {
   "cell_type": "markdown",
   "source": [
    "为了在Python中方便地操作图数据，我们使用流行的NetworkX库。首先创建一个无向图G=(N,E)，其中N为节点集合，E为边集合，运行代码如下。"
   ],
   "metadata": {
    "collapsed": false
   },
   "id": "51476b4b0b87225d"
  },
  {
   "cell_type": "code",
   "execution_count": 1,
   "id": "initial_id",
   "metadata": {
    "collapsed": true,
    "ExecuteTime": {
     "end_time": "2024-05-27T00:44:19.795226Z",
     "start_time": "2024-05-27T00:44:19.237036Z"
    }
   },
   "outputs": [
    {
     "data": {
      "text/plain": "<Figure size 640x480 with 1 Axes>",
      "image/png": "[encoded data removed]"
     },
     "metadata": {},
     "output_type": "display_data"
    }
   ],
   "source": [
    "import networkx as nx\n",
    "import matplotlib.pyplot as plt\n",
    "\n",
    "N = [(f'v{i}',0) for i in range(1, 3)] + [(f'v{i}',1) for i in range(3, 5)] + [(f'v{i}',2) for i in range(5, 6)]\n",
    "\n",
    "E = [('v1', 'v2'), ('v1', 'v3'), \n",
    "     ('v2', 'v1'), ('v2', 'v3'), ('v2', 'v4'),\n",
    "     ('v3', 'v1'), ('v3', 'v2'), ('v3', 'v4'),\n",
    "     ('v4', 'v2'), ('v4', 'v3'), ('v4', 'v5'),\n",
    "     ('v5', 'v4')\n",
    "     ]\n",
    "G = nx.Graph()\n",
    "G.add_nodes_from(list(map(lambda x: x[0], N)))\n",
    "G.add_edges_from(E)\n",
    "\n",
    "ncolor = ['r'] * 2 + ['b'] * 2 + ['g'] * 1\n",
    "nsize = [700] * 2 + [700] * 2 + [700]\n",
    "\n",
    "nx.draw(G, with_labels=True, font_weight='bold', font_color='w', node_color=ncolor, node_size=nsize)\n",
    "plt.show()"
   ]
  },
  {
   "cell_type": "markdown",
   "source": [
    "实现传递规则：\n",
    "\n",
    "$$f(\\textbf{X}, \\textbf{A}) = \\textbf{AX}$$\n",
    "\n",
    "其中，$\\textbf{A}$为邻接矩阵"
   ],
   "metadata": {
    "collapsed": false
   },
   "id": "81d96d319b201050"
  },
  {
   "cell_type": "code",
   "outputs": [
    {
     "data": {
      "text/plain": "array([[0, 1, 1, 0, 0],\n       [1, 0, 1, 1, 0],\n       [1, 1, 0, 1, 0],\n       [0, 1, 1, 0, 1],\n       [0, 0, 0, 1, 0]])"
     },
     "execution_count": 3,
     "metadata": {},
     "output_type": "execute_result"
    }
   ],
   "source": [
    "import numpy as np\n",
    "\n",
    "A = np.array(nx.adjacency_matrix(G).todense())\n",
    "A"
   ],
   "metadata": {
    "collapsed": false,
    "ExecuteTime": {
     "end_time": "2024-05-27T00:52:45.894418Z",
     "start_time": "2024-05-27T00:52:45.888086Z"
    }
   },
   "id": "4a86bd13c9c752ff",
   "execution_count": 3
  },
  {
   "cell_type": "markdown",
   "source": [
    "生成模拟的节点特征矩阵$\\textbf{X}$"
   ],
   "metadata": {
    "collapsed": false
   },
   "id": "4ca42b32e865bae1"
  },
  {
   "cell_type": "code",
   "outputs": [
    {
     "data": {
      "text/plain": "array([[ 0,  0,  2],\n       [ 1, -1,  3],\n       [ 2, -2,  4],\n       [ 3, -3,  5],\n       [ 4, -4,  6]])"
     },
     "execution_count": 4,
     "metadata": {},
     "output_type": "execute_result"
    }
   ],
   "source": [
    "X = np.array([\n",
    "     [i, -i, i+2]\n",
    "     for i in range(A.shape[0])\n",
    "])\n",
    "X"
   ],
   "metadata": {
    "collapsed": false,
    "ExecuteTime": {
     "end_time": "2024-05-27T00:59:00.956126Z",
     "start_time": "2024-05-27T00:59:00.951539Z"
    }
   },
   "id": "be1917c898317b03",
   "execution_count": 4
  },
  {
   "cell_type": "markdown",
   "source": [
    "**进行信息聚合：使用矩阵乘法计算每个节点的一维卷积**\n",
    "\n",
    "在这里我们将节点的一维卷积定义为节点周边对应特征值的和，此时矩阵乘法即可直接用于计算卷积。\n",
    "\n",
    "这其中的数学原理相对比较巧妙：\n",
    "\n",
    "已知邻接矩阵$\\textbf{A}_{(n\\times n)}$，节点特征矩阵$\\textbf{X}_{(n\\times m)}$\n",
    "\n",
    "使用上面的定义，对于卷积而言，节点$v_i$在第$j$个特征上的的一维卷积的公式可以写作：\n",
    "\n",
    "$$Cov_{ij} = \\sum_{k\\in ne_i} X_{kj}$$\n",
    "\n",
    "其中，$ne_i$指节点$v_i$的邻居节点集合，$X_{kj}$指第$k$个节点的第$j$个特征\n",
    "\n",
    "而矩阵乘法可以表示为：\n",
    "\n",
    "$$\\textbf{AX} = \n",
    "\n",
    "\\begin{bmatrix}\n",
    "    \\sum_{i=1}^n A_{1i}X_{i1} & \\sum_{i=1}^n A_{1i}X_{i2} & ... & \\sum_{i=1}^n A_{1i}X_{im}\\\\\n",
    "    \\vdots \\\\\n",
    "    \\sum_{i=1}^n A_{ni}X_{i1} & \\sum_{i=1}^n A_{ni}X_{i2} & ... & \\sum_{i=1}^n A_{ni}X_{im}\\\\\n",
    "    \\end{bmatrix}\n",
    "\n",
    "=\\begin{bmatrix}\n",
    "    Cov_{11} & Cov_{12} & ... & Cov_{im}\\\\\n",
    "    \\vdots \\\\\n",
    "    Cov_{n1} & Cov_{n2} & ... & Cov_{nm}\\\\\n",
    "    \\end{bmatrix}\n",
    "    \n",
    "$$\n",
    "    \n",
    "其中，$\\textbf{A}$为邻接矩阵，$\\textbf{X}$为节点特征矩阵，$\\textbf{AX}$为节点的一维卷积矩阵，即新的特征矩阵\n",
    "\n",
    "因此，我们可以直接使用矩阵乘法来计算节点的一维卷积。"
   ],
   "metadata": {
    "collapsed": false
   },
   "id": "bdb8f3c41777353e"
  },
  {
   "cell_type": "code",
   "outputs": [
    {
     "data": {
      "text/plain": "array([[  3.,  -3.,   9.],\n       [  6.,  -6.,  14.],\n       [  6.,  -6.,  14.],\n       [ 10., -10.,  18.],\n       [  7.,  -7.,  11.]])"
     },
     "execution_count": 7,
     "metadata": {},
     "output_type": "execute_result"
    }
   ],
   "source": [
    "A_hat = A + np.eye(A.shape[0]) # 添加自环，防止自身信息丢失\n",
    "A_hat @ X"
   ],
   "metadata": {
    "collapsed": false,
    "ExecuteTime": {
     "end_time": "2024-05-27T01:27:35.448581Z",
     "start_time": "2024-05-27T01:27:35.443261Z"
    }
   },
   "id": "c1fcf818f5a99fc2",
   "execution_count": 7
  },
  {
   "cell_type": "markdown",
   "source": [
    "简化矩阵表示："
   ],
   "metadata": {
    "collapsed": false
   },
   "id": "1833f3ea8cf1186f"
  },
  {
   "cell_type": "code",
   "outputs": [
    {
     "data": {
      "text/plain": "array([[3., 0., 0., 0., 0.],\n       [0., 4., 0., 0., 0.],\n       [0., 0., 4., 0., 0.],\n       [0., 0., 0., 4., 0.],\n       [0., 0., 0., 0., 2.]])"
     },
     "execution_count": 14,
     "metadata": {},
     "output_type": "execute_result"
    }
   ],
   "source": [
    "A_sum = np.sum(A_hat, axis=0)\n",
    "D = np.diag(A_sum)  \n",
    "D"
   ],
   "metadata": {
    "collapsed": false,
    "ExecuteTime": {
     "end_time": "2024-05-27T02:05:29.862971Z",
     "start_time": "2024-05-27T02:05:29.857212Z"
    }
   },
   "id": "5ae06046b8cb3168",
   "execution_count": 14
  },
  {
   "cell_type": "markdown",
   "source": [
    "矩阵归一化的第一种方法：\n",
    "\n",
    "$$A_{scale} = \\hat_{D}^{-1}\\cdot \\hat{A}$$\n"
   ],
   "metadata": {
    "collapsed": false
   },
   "id": "4a095a27481af289"
  },
  {
   "cell_type": "code",
   "outputs": [
    {
     "data": {
      "text/plain": "array([[0.33333333, 0.33333333, 0.33333333, 0.        , 0.        ],\n       [0.25      , 0.25      , 0.25      , 0.25      , 0.        ],\n       [0.25      , 0.25      , 0.25      , 0.25      , 0.        ],\n       [0.        , 0.25      , 0.25      , 0.25      , 0.25      ],\n       [0.        , 0.        , 0.        , 0.5       , 0.5       ]])"
     },
     "execution_count": 10,
     "metadata": {},
     "output_type": "execute_result"
    }
   ],
   "source": [
    "D_1 = np.diag(D) ** (-1) * np.eye(A_hat.shape[0])\n",
    "A_scale = D_1 @ A_hat\n",
    "A_scale"
   ],
   "metadata": {
    "collapsed": false,
    "ExecuteTime": {
     "end_time": "2024-05-27T01:33:53.417554Z",
     "start_time": "2024-05-27T01:33:53.412343Z"
    }
   },
   "id": "736ebe992cab5724",
   "execution_count": 10
  },
  {
   "cell_type": "code",
   "outputs": [
    {
     "data": {
      "text/plain": "array([[ 1. , -1. ,  3. ],\n       [ 1.5, -1.5,  3.5],\n       [ 1.5, -1.5,  3.5],\n       [ 2.5, -2.5,  4.5],\n       [ 3.5, -3.5,  5.5]])"
     },
     "execution_count": 11,
     "metadata": {},
     "output_type": "execute_result"
    }
   ],
   "source": [
    "X_new = A_scale @ X\n",
    "X_new"
   ],
   "metadata": {
    "collapsed": false,
    "ExecuteTime": {
     "end_time": "2024-05-27T01:35:43.051333Z",
     "start_time": "2024-05-27T01:35:43.046716Z"
    }
   },
   "id": "64dfb7e935dedb9f",
   "execution_count": 11
  },
  {
   "cell_type": "markdown",
   "source": [
    "矩阵归一化的第二种方法：\n",
    "\n",
    "$$A_{scale} = \\hat_{D}^{-1}\\cdot \\hat{A} \\cdot \\hat_{D}^{-1}$$\n"
   ],
   "metadata": {
    "collapsed": false
   },
   "id": "1d881b22516c9338"
  },
  {
   "cell_type": "code",
   "outputs": [
    {
     "data": {
      "text/plain": "array([[0.11111111, 0.08333333, 0.08333333, 0.        , 0.        ],\n       [0.08333333, 0.0625    , 0.0625    , 0.0625    , 0.        ],\n       [0.08333333, 0.0625    , 0.0625    , 0.0625    , 0.        ],\n       [0.        , 0.0625    , 0.0625    , 0.0625    , 0.125     ],\n       [0.        , 0.        , 0.        , 0.125     , 0.25      ]])"
     },
     "execution_count": 13,
     "metadata": {},
     "output_type": "execute_result"
    }
   ],
   "source": [
    "scale_factor = D_1 @ A_hat @ D_1\n",
    "scale_factor"
   ],
   "metadata": {
    "collapsed": false,
    "ExecuteTime": {
     "end_time": "2024-05-27T02:04:25.637238Z",
     "start_time": "2024-05-27T02:04:25.633869Z"
    }
   },
   "id": "67d030d453643a78",
   "execution_count": 13
  },
  {
   "cell_type": "code",
   "outputs": [
    {
     "data": {
      "text/plain": "array([[ 0.25      , -0.25      ,  0.80555556],\n       [ 0.375     , -0.375     ,  0.91666667],\n       [ 0.375     , -0.375     ,  0.91666667],\n       [ 0.875     , -0.875     ,  1.5       ],\n       [ 1.375     , -1.375     ,  2.125     ]])"
     },
     "execution_count": 15,
     "metadata": {},
     "output_type": "execute_result"
    }
   ],
   "source": [
    "scale_factor @ X"
   ],
   "metadata": {
    "collapsed": false,
    "ExecuteTime": {
     "end_time": "2024-05-27T02:07:48.935173Z",
     "start_time": "2024-05-27T02:07:48.931962Z"
    }
   },
   "id": "b70a0cc13e53f3f9",
   "execution_count": 15
  },
  {
   "cell_type": "markdown",
   "source": [
    "矩阵归一化的第三种方法：\n",
    "\n",
    "$$A_{scale1} = \\hat_{D}^{-\\frac{1}{2}}\\cdot \\hat{A} \\cdot \\hat_{D}^{-\\frac{1}{2}}$$"
   ],
   "metadata": {
    "collapsed": false
   },
   "id": "b7464f7e15dcceed"
  },
  {
   "cell_type": "code",
   "outputs": [
    {
     "data": {
      "text/plain": "array([[ 0.8660254 , -0.8660254 ,  2.68739261],\n       [ 1.5       , -1.5       ,  3.57735027],\n       [ 1.5       , -1.5       ,  3.57735027],\n       [ 2.91421356, -2.91421356,  5.12132034],\n       [ 3.06066017, -3.06066017,  4.76776695]])"
     },
     "execution_count": 16,
     "metadata": {},
     "output_type": "execute_result"
    }
   ],
   "source": [
    "D_sq_half = np.diag(D) ** (-0.5) * np.eye(A_hat.shape[0])\n",
    "scale_factor2 = D_sq_half @ A_hat @ D_sq_half\n",
    "x_new2 = scale_factor2 @ X\n",
    "x_new2"
   ],
   "metadata": {
    "collapsed": false,
    "ExecuteTime": {
     "end_time": "2024-05-27T02:10:26.551791Z",
     "start_time": "2024-05-27T02:10:26.546805Z"
    }
   },
   "id": "886ffb9ef75f0628",
   "execution_count": 16
  },
  {
   "cell_type": "markdown",
   "source": [
    "**一般情况下需要考虑权值矩阵，从而对不同维度的特征进行权重打分**\n",
    "\n",
    "此时聚合公式为：\n",
    "\n",
    "$$cov=AXW$$\n",
    "\n",
    "其中，$W$为权值矩阵\n"
   ],
   "metadata": {
    "collapsed": false
   },
   "id": "85236276c51b3f66"
  },
  {
   "cell_type": "code",
   "outputs": [
    {
     "data": {
      "text/plain": "array([[ 0.16838887,  0.00392305],\n       [ 0.14082904,  0.16839746],\n       [ 0.14082904,  0.16839746],\n       [ 0.01757359,  0.60148232],\n       [-0.06707107,  0.72334524]])"
     },
     "execution_count": 18,
     "metadata": {},
     "output_type": "execute_result"
    }
   ],
   "source": [
    "# 这里直接给出权重矩阵，特征权值在实际情下需要学习得到\n",
    "\n",
    "W = np.array([\n",
    "     [0.13, 0.24],\n",
    "     [0.37, -0.23],\n",
    "     [0.14, -0.15]\n",
    "])\n",
    "x_new2 @ W"
   ],
   "metadata": {
    "collapsed": false,
    "ExecuteTime": {
     "end_time": "2024-05-27T02:29:27.649588Z",
     "start_time": "2024-05-27T02:29:27.645090Z"
    }
   },
   "id": "2204525de415a938",
   "execution_count": 18
  },
  {
   "cell_type": "markdown",
   "source": [
    "在卷积层之后添加ReLU激活函数\n",
    "\n",
    "ReLU：\n",
    "\n",
    "$$f(x)=x \\ if \\ x > 0 \\ else \\ 0$$"
   ],
   "metadata": {
    "collapsed": false
   },
   "id": "5cfc4065f07cee05"
  },
  {
   "cell_type": "code",
   "outputs": [
    {
     "data": {
      "text/plain": "array([[ 0.16838887,  0.00392305],\n       [ 0.14082904,  0.16839746],\n       [ 0.14082904,  0.16839746],\n       [ 0.01757359,  0.60148232],\n       [-0.        ,  0.72334524]])"
     },
     "execution_count": 19,
     "metadata": {},
     "output_type": "execute_result"
    }
   ],
   "source": [
    "logits = x_new2 @ W\n",
    "y = logits * (logits > 0)\n",
    "y "
   ],
   "metadata": {
    "collapsed": false,
    "ExecuteTime": {
     "end_time": "2024-05-27T05:54:12.687034Z",
     "start_time": "2024-05-27T05:54:12.683338Z"
    }
   },
   "id": "bb86624772d84233",
   "execution_count": 19
  },
  {
   "cell_type": "code",
   "outputs": [
    {
     "data": {
      "text/plain": "tensor([[0.1684, 0.0039],\n        [0.1408, 0.1684],\n        [0.1408, 0.1684],\n        [0.0176, 0.6015],\n        [0.0000, 0.7233]], dtype=torch.float64)"
     },
     "execution_count": 20,
     "metadata": {},
     "output_type": "execute_result"
    }
   ],
   "source": [
    "from torch.nn.functional import relu\n",
    "import torch\n",
    "\n",
    "y = relu(torch.tensor(logits))\n",
    "y"
   ],
   "metadata": {
    "collapsed": false,
    "ExecuteTime": {
     "end_time": "2024-05-27T05:57:50.745327Z",
     "start_time": "2024-05-27T05:57:47.633243Z"
    }
   },
   "id": "4942959c401c2c93",
   "execution_count": 20
  },
  {
   "cell_type": "markdown",
   "source": [
    "添加softmax函数对y进行概率化\n",
    "\n",
    "softmax：\n",
    "\n",
    "$$softmax(\\textbf{X},x_i) = \\frac{e^{x_i}}{\\sum_{j=1}^n e^{x_j}}$$"
   ],
   "metadata": {
    "collapsed": false
   },
   "id": "607c81e53edda5bb"
  },
  {
   "cell_type": "code",
   "outputs": [
    {
     "data": {
      "text/plain": "tensor([[0.2150, 0.1383],\n        [0.2092, 0.1631],\n        [0.2092, 0.1631],\n        [0.1849, 0.2515],\n        [0.1817, 0.2840]], dtype=torch.float64)"
     },
     "execution_count": 22,
     "metadata": {},
     "output_type": "execute_result"
    }
   ],
   "source": [
    "from torch.nn.functional import softmax\n",
    "\n",
    "prob = softmax(y, dim=0)\n",
    "prob"
   ],
   "metadata": {
    "collapsed": false,
    "ExecuteTime": {
     "end_time": "2024-05-27T06:03:32.538867Z",
     "start_time": "2024-05-27T06:03:32.533209Z"
    }
   },
   "id": "7dec73ef9203debc",
   "execution_count": 22
  },
  {
   "cell_type": "markdown",
   "source": [
    "添加argmax函数"
   ],
   "metadata": {
    "collapsed": false
   },
   "id": "5d4fd7e92253d345"
  },
  {
   "cell_type": "code",
   "outputs": [
    {
     "data": {
      "text/plain": "array([0, 0, 0, 1, 1])"
     },
     "execution_count": 23,
     "metadata": {},
     "output_type": "execute_result"
    }
   ],
   "source": [
    "np.argmax(prob.numpy(), axis=1)"
   ],
   "metadata": {
    "collapsed": false,
    "ExecuteTime": {
     "end_time": "2024-05-27T06:04:57.383488Z",
     "start_time": "2024-05-27T06:04:57.380272Z"
    }
   },
   "id": "48e2d6d4c8d93e11",
   "execution_count": 23
  },
  {
   "cell_type": "code",
   "outputs": [],
   "source": [],
   "metadata": {
    "collapsed": false
   },
   "id": "337148e73a917b8f"
  }
 ],
 "metadata": {
  "kernelspec": {
   "display_name": "Python 3",
   "language": "python",
   "name": "python3"
  },
  "language_info": {
   "codemirror_mode": {
    "name": "ipython",
    "version": 2
   },
   "file_extension": ".py",
   "mimetype": "text/x-python",
   "name": "python",
   "nbconvert_exporter": "python",
   "pygments_lexer": "ipython2",
   "version": "2.7.6"
  }
 },
 "nbformat": 4,
 "nbformat_minor": 5
}
